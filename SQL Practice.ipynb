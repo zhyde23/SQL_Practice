{
 "cells": [
  {
   "cell_type": "code",
   "execution_count": 1,
   "metadata": {
    "ExecuteTime": {
     "end_time": "2021-06-30T18:16:35.903623Z",
     "start_time": "2021-06-30T18:16:33.734396Z"
    }
   },
   "outputs": [
    {
     "name": "stdout",
     "output_type": "stream",
     "text": [
      "                         date  births\n",
      "0  1975-01-01 00:00:00.000000  265775\n",
      "1  1975-03-01 00:00:00.000000  268849\n",
      "2  1975-05-01 00:00:00.000000  254545\n",
      "3  1975-06-01 00:00:00.000000  254096\n",
      "4  1975-07-01 00:00:00.000000  275163\n"
     ]
    }
   ],
   "source": [
    "import pandas as pd\n",
    "from pandasql import sqldf\n",
    "from pandasql import load_births\n",
    "\n",
    "births = load_births()\n",
    "\n",
    "print(sqldf('SELECT * FROM births where births > 250000 limit 5;', locals()))"
   ]
  },
  {
   "cell_type": "code",
   "execution_count": 4,
   "metadata": {
    "ExecuteTime": {
     "end_time": "2021-06-30T18:19:54.455784Z",
     "start_time": "2021-06-30T18:19:54.438610Z"
    }
   },
   "outputs": [
    {
     "name": "stdout",
     "output_type": "stream",
     "text": [
      "          DOB  Total Births\n",
      "0  1975-01-01        265775\n",
      "1  1975-02-01        241045\n",
      "2  1975-03-01        268849\n",
      "3  1975-04-01        247455\n",
      "4  1975-05-01        254545\n",
      "5  1975-06-01        254096\n",
      "6  1975-07-01        275163\n",
      "7  1975-08-01        281300\n",
      "8  1975-09-01        270738\n",
      "9  1975-10-01        265494\n"
     ]
    }
   ],
   "source": [
    "q = '''\n",
    "        select\n",
    "            date(date) as DOB,\n",
    "            sum(births) as 'Total Births'\n",
    "        from\n",
    "            births\n",
    "        group by\n",
    "            date\n",
    "            limit 10;\n",
    "'''\n",
    "print(sqldf(q, locals()))"
   ]
  },
  {
   "cell_type": "code",
   "execution_count": 5,
   "metadata": {
    "ExecuteTime": {
     "end_time": "2021-06-30T18:21:25.747875Z",
     "start_time": "2021-06-30T18:21:25.745129Z"
    }
   },
   "outputs": [],
   "source": [
    "def pysqldf(q):\n",
    "    \"add this to your script if you get tired of calling locals()\"\n",
    "    return sqldf(q, globals())"
   ]
  },
  {
   "cell_type": "code",
   "execution_count": null,
   "metadata": {},
   "outputs": [],
   "source": []
  }
 ],
 "metadata": {
  "kernelspec": {
   "display_name": "Python 3",
   "language": "python",
   "name": "python3"
  },
  "language_info": {
   "codemirror_mode": {
    "name": "ipython",
    "version": 3
   },
   "file_extension": ".py",
   "mimetype": "text/x-python",
   "name": "python",
   "nbconvert_exporter": "python",
   "pygments_lexer": "ipython3",
   "version": "3.6.9"
  },
  "toc": {
   "base_numbering": 1,
   "nav_menu": {},
   "number_sections": true,
   "sideBar": true,
   "skip_h1_title": false,
   "title_cell": "Table of Contents",
   "title_sidebar": "Contents",
   "toc_cell": false,
   "toc_position": {},
   "toc_section_display": true,
   "toc_window_display": false
  },
  "varInspector": {
   "cols": {
    "lenName": 16,
    "lenType": 16,
    "lenVar": 40
   },
   "kernels_config": {
    "python": {
     "delete_cmd_postfix": "",
     "delete_cmd_prefix": "del ",
     "library": "var_list.py",
     "varRefreshCmd": "print(var_dic_list())"
    },
    "r": {
     "delete_cmd_postfix": ") ",
     "delete_cmd_prefix": "rm(",
     "library": "var_list.r",
     "varRefreshCmd": "cat(var_dic_list()) "
    }
   },
   "types_to_exclude": [
    "module",
    "function",
    "builtin_function_or_method",
    "instance",
    "_Feature"
   ],
   "window_display": false
  }
 },
 "nbformat": 4,
 "nbformat_minor": 2
}
